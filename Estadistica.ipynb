{
 "cells": [
  {
   "cell_type": "code",
   "execution_count": null,
   "id": "899d04b3",
   "metadata": {},
   "outputs": [
    {
     "name": "stdout",
     "output_type": "stream",
     "text": [
      "Grupo A (Tutoría) - Media: 85.87, Desv estándar: 4.02\n",
      "Grupo B (Control) - Media: 75.07, Desv estándar: 3.71\n"
     ]
    },
    {
     "data": {
      "image/png": "[encoded data removed]",
      "text/plain": [
       "<Figure size 800x600 with 1 Axes>"
      ]
     },
     "metadata": {},
     "output_type": "display_data"
    }
   ],
   "source": [
    "'''\n",
    "Imagina que trabajas en una institución educativa interesada en evaluar si un nuevo programa de tutoría mejora el rendimiento académico de los estudiantes. Para ello, se selecciona una muestra de 30 estudiantes, divididos en dos grupos:\n",
    "• Grupo A (15 estudiantes): Recibe el programa de tutoría.\n",
    "• Grupo B (15 estudiantes): No recibe el programa (grupo de control).\n",
    "Los resultados del rendimiento académico se miden mediante un examen estándar, donde las calificaciones oscilan entre 0 y 100 puntos. Los datos obtenidos son los siguientes:\n",
    "Grupo A (Tutoría): 85, 90, 78, 88, 92, 80, 86, 89, 84, 87, 91, 82, 83, 85, 88\n",
    "Grupo B (Control): 70, 72, 75, 78, 80, 68, 74, 76, 79, 77, 73, 71, 75, 78, 80\n",
    "\n",
    "INSTRUCCIONES\n",
    "1.Diseño del Experimento \n",
    "• Explica brevemente cómo se podría mejorar el diseño del experimento para reducir posibles sesgos.\n",
    "Para reducir posibles sesgos sería importante aleatorizar a los estudiantes de ambos grupos y emparejar estudiantes de acuerdo a \n",
    "rendimiento académico previo, además asegurar que todos los estudiantes mantengan contextos similares para dedicar al estudio, \n",
    "como un entorno adecuado y horas de estudio. AUmentar el tamaño de la muestra siempre es mejor ya que grupos de 15 estudiantes \n",
    "es una muestra pequeña.\n",
    "'''\n",
    "\n",
    "# 2. Cálculo de Estadísticas Descriptivas \n",
    "\n",
    "\n",
    "import numpy as np\n",
    "import matplotlib.pyplot as plt\n",
    "import seaborn as sns\n",
    "\n",
    "grupo_A = np.array([85, 90, 78, 88, 92, 80, 86, 89, 84, 87, 91, 82, 83, 85, 88])\n",
    "grupo_B = np.array([70, 72, 75, 78, 80, 68, 74, 76, 79, 77, 73, 71, 75, 78, 80])\n",
    "\n",
    "\n",
    "# • Calcula la media y la desviación estándar para ambos grupos.\n",
    "\n",
    "media_A = np.mean(grupo_A)\n",
    "std_A = np.std(grupo_A, ddof=1)\n",
    "\n",
    "media_B = np.mean(grupo_B)\n",
    "std_B = np.std(grupo_B, ddof=1)\n",
    "\n",
    "print(f'Grupo A (Tutoría) - Media: {media_A:.2f}, Desv estándar: {std_A:.2f}')\n",
    "print(f'Grupo B (Control) - Media: {media_B:.2f}, Desv estándar: {std_B:.2f}')\n",
    "\n",
    "# • Representa los datos gráficamente (usando histogramas o diagramas de caja).\n",
    "\n",
    "\n",
    "plt.figure(figsize=(8, 6))\n",
    "sns.boxplot(data=[grupo_A, grupo_B], palette='Set2')\n",
    "plt.title('Diagrama de Caja: Calificaciones')\n",
    "plt.xticks([0, 1], [\"Tutoría\", \"Control\"])\n",
    "plt.xlabel('Grupo')\n",
    "plt.ylabel('Calificación')\n",
    "plt.show()\n",
    "\n",
    "\n"
   ]
  },
  {
   "cell_type": "code",
   "execution_count": null,
   "id": "2d06bdc1",
   "metadata": {},
   "outputs": [
    {
     "name": "stdout",
     "output_type": "stream",
     "text": [
      "H0: No hay diferencia en el rendimiento académico entre los dos grupos.\n",
      "H1: El grupo con tutoría tiene un mejor rendimiento académico.\n",
      "\n",
      "Variable dependiente: Calificación promedio\n",
      "Variable independiente: Grupo control o tutoría\n",
      "\n",
      "t-statistic: 7.6489, p-value: 0.00000\n",
      "\n",
      "Resultado: Se rechaza la hipótesis nula. La tutoría efectivamente mejora el rendimiento académico.\n"
     ]
    }
   ],
   "source": [
    "# 3. Prueba de Hipótesis \n",
    "# • Plantea la hipótesis nula (H0) y alternativa (H1).\n",
    "# H0: No hay diferencia en el rendimiento académico entre los dos grupos.\n",
    "# H1: El grupo con tutoría tiene un mejor rendimiento académico.\n",
    "# • Realiza una prueba t para comparar las medias de ambos grupos. Usa un nivel de significancia (α=0.05).\n",
    "\n",
    "# Planteamiento de Hipótesis\n",
    "print('H0: No hay diferencia en el rendimiento académico entre los dos grupos.')\n",
    "# H0: media_A = media_B (no hay diferencia entre grupos)\n",
    "\n",
    "print('H1: El grupo con tutoría tiene un mejor rendimiento académico.')\n",
    "#H1: media_A > media_B #(el grupo A tiene mayor promedio)\n",
    "\n",
    "\n",
    "# Definir variables\n",
    "\n",
    "print('\\nVariable dependiente: Calificación promedio')\n",
    "print('Variable independiente: Grupo control o tutoría\\n')\n",
    "\n",
    "α=0.05\n",
    "\n",
    "# Prueba estadística: t-test para diferencia de medias\n",
    "from scipy.stats import ttest_ind\n",
    "\n",
    "stat, p = ttest_ind(grupo_A, grupo_B, equal_var=False)\n",
    "print(f\"t-statistic: {stat:.4f}, p-value: {p:.5f}\\n\")\n",
    "\n",
    "#t-statistic: 7.6489, p-value: 0.00000\n",
    "\n",
    "# • Interpreta el valor-p y decide si rechazas o no la hipótesis nula.\n",
    "\n",
    "if p < 0.05:\n",
    "    print(\"Resultado: Se rechaza la hipótesis nula. La tutoría efectivamente mejora el rendimiento académico.\")\n",
    "else:\n",
    "    print(\"Resultado: No se rechaza la hipótesis nula. No hay evidencia suficiente de que la tutoría mejore el rendimiento académico.\")\n",
    "\n",
    "# Al obtener un valor p < 0.05, rechazamos H0 y se puede concluir que la tutoría efectivamente mejora el rendimiento académico.\n",
    "\n"
   ]
  },
  {
   "cell_type": "code",
   "execution_count": null,
   "id": "d61dee2c",
   "metadata": {},
   "outputs": [
    {
     "name": "stdout",
     "output_type": "stream",
     "text": [
      "Diferencia de medias: 10.80\n",
      "IC 95% para la diferencia: (7.91, 13.69)\n",
      "Interpretación: Como el intervalo de confianza está completamente por encima de 0, hay evidencia de que el programa de tutoría mejora significativamente el rendimiento académico.\n"
     ]
    }
   ],
   "source": [
    "# 4. Intervalo de Confianza \n",
    "# • Calcula un intervalo de confianza del 95% para la diferencia de medias entre los dos grupos.\n",
    "\n",
    "import scipy.stats as stats\n",
    "\n",
    "# Diferencia de medias\n",
    "dif_means = media_A - media_B\n",
    "\n",
    "# Error estándar conjunto\n",
    "n1, n2 = len(grupo_A), len(grupo_B)\n",
    "se_dif = np.sqrt((std_A**2 / n1) + (std_B**2 / n2))\n",
    "\n",
    "# Grados de libertad aproximados (método de Welch-Satterthwaite)\n",
    "df = ( (std_A**2/n1 + std_B**2/n2)**2 ) / ( ((std_A**2/n1)**2)/(n1-1) + ((std_B**2/n2)**2)/(n2-1) )\n",
    "\n",
    "# Intervalo de confianza del 95%\n",
    "t_crit = stats.t.ppf(0.975, df)\n",
    "ci_lower = dif_means - t_crit * se_dif\n",
    "ci_upper = dif_means + t_crit * se_dif\n",
    "\n",
    "print(f\"Diferencia de medias: {dif_means:.2f}\")\n",
    "print(f\"IC 95% para la diferencia: ({ci_lower:.2f}, {ci_upper:.2f})\")\n",
    "\n",
    "\n",
    "# • Interpreta el resultado.\n",
    "\n",
    "if ci_lower > 0:\n",
    "    print(\"Interpretación: Como el intervalo de confianza está completamente por encima de 0, hay evidencia de que el programa de tutoría mejora significativamente el rendimiento académico.\")\n",
    "elif ci_upper < 0:\n",
    "    print(\"Interpretación: Como el intervalo de confianza está completamente por debajo de 0, hay evidencia de que el grupo de control tuvo mejor rendimiento, lo cual es inesperado.\")\n",
    "else:\n",
    "    print(\"Interpretación: Como el intervalo de confianza incluye el 0, no se puede afirmar con un 95% de confianza que el programa de tutoría tenga un efecto significativo en el rendimiento académico.\")\n",
    "\n",
    "# Si el intervalo no incluye 0 y es completamente positivo, la tutoría tiene un efecto positivo en el rendimiento.\n",
    "# Si incluye 0, no se puede concluir con certeza que exista diferencia significativa."
   ]
  }
 ],
 "metadata": {
  "kernelspec": {
   "display_name": "base",
   "language": "python",
   "name": "python3"
  },
  "language_info": {
   "codemirror_mode": {
    "name": "ipython",
    "version": 3
   },
   "file_extension": ".py",
   "mimetype": "text/x-python",
   "name": "python",
   "nbconvert_exporter": "python",
   "pygments_lexer": "ipython3",
   "version": "3.13.2"
  }
 },
 "nbformat": 4,
 "nbformat_minor": 5
}
